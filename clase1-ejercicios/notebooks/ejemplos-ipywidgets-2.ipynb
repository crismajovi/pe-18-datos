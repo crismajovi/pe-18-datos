{
 "cells": [
  {
   "cell_type": "code",
   "execution_count": 1,
   "metadata": {},
   "outputs": [],
   "source": [
    "import ipywidgets as widgets\n",
    "import pandas as pd\n"
   ]
  },
  {
   "cell_type": "code",
   "execution_count": 4,
   "metadata": {},
   "outputs": [
    {
     "data": {
      "application/vnd.jupyter.widget-view+json": {
       "model_id": "f16696a8dc134ca5b4cffddd9d6627a5",
       "version_major": 2,
       "version_minor": 0
      },
      "text/plain": [
       "Dropdown(description=u'Number:', index=1, options=('1', '2', '3'), value='2')"
      ]
     },
     "metadata": {},
     "output_type": "display_data"
    }
   ],
   "source": [
    "from IPython.display import display\n",
    "\n",
    "w = widgets.Dropdown(\n",
    "    options=['1', '2', '3'],\n",
    "    value='2',\n",
    "    description='Number:',\n",
    "    disabled=False,\n",
    ")\n",
    "display(w)"
   ]
  },
  {
   "cell_type": "code",
   "execution_count": 3,
   "metadata": {},
   "outputs": [
    {
     "name": "stdout",
     "output_type": "stream",
     "text": [
      "0\n",
      "1\n"
     ]
    }
   ],
   "source": [
    "for i in range(0, int(w.value)):\n",
    "    print(i)"
   ]
  },
  {
   "cell_type": "code",
   "execution_count": 4,
   "metadata": {},
   "outputs": [
    {
     "name": "stdout",
     "output_type": "stream",
     "text": [
      "Index([u'Provincia', u'Canton', u'Parroquia', u'Femenino', u'Masculino',\n",
      "       u'Textbox17', u'Textbox6', u'Textbox7', u'Textbox18'],\n",
      "      dtype='object')\n"
     ]
    },
    {
     "data": {
      "text/plain": [
       "0                  AZUAY\n",
       "1                  AZUAY\n",
       "2                  AZUAY\n",
       "3                  AZUAY\n",
       "4                  AZUAY\n",
       "5                  AZUAY\n",
       "6                  AZUAY\n",
       "7                  AZUAY\n",
       "8                  AZUAY\n",
       "9                  AZUAY\n",
       "10                 AZUAY\n",
       "11                 AZUAY\n",
       "12                 AZUAY\n",
       "13                 AZUAY\n",
       "14                 AZUAY\n",
       "15                 AZUAY\n",
       "16                 AZUAY\n",
       "17                 AZUAY\n",
       "18                 AZUAY\n",
       "19                 AZUAY\n",
       "20                 AZUAY\n",
       "21                 AZUAY\n",
       "22                 AZUAY\n",
       "23                 AZUAY\n",
       "24                 AZUAY\n",
       "25                 AZUAY\n",
       "26                 AZUAY\n",
       "27                 AZUAY\n",
       "28                 AZUAY\n",
       "29                 AZUAY\n",
       "              ...       \n",
       "1173    ZAMORA CHINCHIPE\n",
       "1174    ZAMORA CHINCHIPE\n",
       "1175    ZAMORA CHINCHIPE\n",
       "1176    ZAMORA CHINCHIPE\n",
       "1177    ZAMORA CHINCHIPE\n",
       "1178    ZAMORA CHINCHIPE\n",
       "1179    ZAMORA CHINCHIPE\n",
       "1180    ZAMORA CHINCHIPE\n",
       "1181    ZAMORA CHINCHIPE\n",
       "1182    ZAMORA CHINCHIPE\n",
       "1183    ZAMORA CHINCHIPE\n",
       "1184    ZAMORA CHINCHIPE\n",
       "1185    ZAMORA CHINCHIPE\n",
       "1186    ZAMORA CHINCHIPE\n",
       "1187    ZAMORA CHINCHIPE\n",
       "1188    ZAMORA CHINCHIPE\n",
       "1189    ZAMORA CHINCHIPE\n",
       "1190    ZAMORA CHINCHIPE\n",
       "1191    ZAMORA CHINCHIPE\n",
       "1192    ZAMORA CHINCHIPE\n",
       "1193    ZAMORA CHINCHIPE\n",
       "1194    ZAMORA CHINCHIPE\n",
       "1195    ZAMORA CHINCHIPE\n",
       "1196    ZAMORA CHINCHIPE\n",
       "1197    ZAMORA CHINCHIPE\n",
       "1198    ZAMORA CHINCHIPE\n",
       "1199    ZAMORA CHINCHIPE\n",
       "1200    ZAMORA CHINCHIPE\n",
       "1201    ZAMORA CHINCHIPE\n",
       "1202    ZAMORA CHINCHIPE\n",
       "Name: Provincia, Length: 1203, dtype: object"
      ]
     },
     "execution_count": 4,
     "metadata": {},
     "output_type": "execute_result"
    }
   ],
   "source": [
    "data = pd.read_csv(\"data/data-educacion-ecuador.csv\")\n",
    "print(data.keys())\n",
    "data.Provincia"
   ]
  },
  {
   "cell_type": "code",
   "execution_count": 11,
   "metadata": {},
   "outputs": [
    {
     "data": {
      "application/vnd.jupyter.widget-view+json": {
       "model_id": "59e0f435b37b475fbca31252582649d1",
       "version_major": 2,
       "version_minor": 0
      },
      "text/plain": [
       "Dropdown(description=u'Provincia:', index=2, options=('ZAMORA CHINCHIPE', 'AZUAY', 'LOJA'), value='LOJA')"
      ]
     },
     "metadata": {},
     "output_type": "display_data"
    }
   ],
   "source": [
    "w = widgets.Dropdown(\n",
    "    options=['ZAMORA CHINCHIPE', 'AZUAY', 'LOJA'],\n",
    "    value='LOJA',\n",
    "    description='Provincia:',\n",
    "    disabled=False,\n",
    ")\n",
    "display(w)"
   ]
  },
  {
   "cell_type": "code",
   "execution_count": 12,
   "metadata": {},
   "outputs": [
    {
     "ename": "NameError",
     "evalue": "name 'data' is not defined",
     "output_type": "error",
     "traceback": [
      "\u001b[0;31m---------------------------------------------------------------------------\u001b[0m",
      "\u001b[0;31mNameError\u001b[0m                                 Traceback (most recent call last)",
      "\u001b[0;32m<ipython-input-12-3ee3aefdf8f9>\u001b[0m in \u001b[0;36m<module>\u001b[0;34m()\u001b[0m\n\u001b[0;32m----> 1\u001b[0;31m \u001b[0mdata\u001b[0m\u001b[0;34m[\u001b[0m\u001b[0mdata\u001b[0m\u001b[0;34m[\u001b[0m\u001b[0;34m'Provincia'\u001b[0m\u001b[0;34m]\u001b[0m\u001b[0;34m==\u001b[0m\u001b[0mw\u001b[0m\u001b[0;34m.\u001b[0m\u001b[0mvalue\u001b[0m\u001b[0;34m]\u001b[0m\u001b[0;34m\u001b[0m\u001b[0m\n\u001b[0m",
      "\u001b[0;31mNameError\u001b[0m: name 'data' is not defined"
     ]
    }
   ],
   "source": [
    "data[data['Provincia']==w.value]"
   ]
  },
  {
   "cell_type": "code",
   "execution_count": null,
   "metadata": {},
   "outputs": [],
   "source": []
  },
  {
   "cell_type": "code",
   "execution_count": null,
   "metadata": {},
   "outputs": [],
   "source": []
  }
 ],
 "metadata": {
  "kernelspec": {
   "display_name": "Python 2",
   "language": "python",
   "name": "python2"
  },
  "language_info": {
   "codemirror_mode": {
    "name": "ipython",
    "version": 2
   },
   "file_extension": ".py",
   "mimetype": "text/x-python",
   "name": "python",
   "nbconvert_exporter": "python",
   "pygments_lexer": "ipython2",
   "version": "2.7.10"
  }
 },
 "nbformat": 4,
 "nbformat_minor": 2
}
