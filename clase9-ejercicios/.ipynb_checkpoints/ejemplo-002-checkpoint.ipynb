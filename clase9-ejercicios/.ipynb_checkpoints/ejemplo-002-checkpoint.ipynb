{
 "cells": [
  {
   "cell_type": "code",
   "execution_count": 1,
   "metadata": {},
   "outputs": [],
   "source": [
    "import pandas as pd\n",
    "import matplotlib.pyplot as plt\n",
    "%matplotlib inline\n",
    "\n",
    "#import bokeh.io\n",
    "#import bokeh.models\n",
    "#import bokeh.palettes\n",
    "#import bokeh.plotting\n",
    "\n",
    "# Display graphics in this notebook\n",
    "#bokeh.io.output_notebook()\n",
    "\n",
    "import pandas.io.sql as pd_sql\n",
    "import sqlite3 as sql"
   ]
  },
  {
   "cell_type": "code",
   "execution_count": 2,
   "metadata": {},
   "outputs": [
    {
     "name": "stdout",
     "output_type": "stream",
     "text": [
      "\u001b[31mEjemplo01-Scipy.ipynb\u001b[m\u001b[m*       \u001b[34mdatos-tabula\u001b[m\u001b[m/\r\n",
      "Ejemplo02-matematicas.ipynb  ejemplo-002.ipynb\r\n",
      "Ejemplo03-json.ipynb         \u001b[31mejemplo-mundial-18.ipynb\u001b[m\u001b[m*\r\n"
     ]
    }
   ],
   "source": [
    "ls"
   ]
  },
  {
   "cell_type": "code",
   "execution_count": 3,
   "metadata": {},
   "outputs": [
    {
     "name": "stdout",
     "output_type": "stream",
     "text": [
      "Codigo-AMIE\n",
      "Nombre-Institucion\n",
      "CDPA-Provincia\n",
      "Provincia\n",
      "CDPA-Canton\n",
      "Canton\n",
      "CDPA-Parroquia\n",
      "Parroquia\n",
      "Zona-Administrativa\n",
      "Nombre-Distrito\n",
      "Codigo-Distrito\n",
      "Cod-Circuito-Educativo\n",
      "Unidad-Administrativa-Circuital\n",
      "Casos-excepcionales\n",
      "Sostenimiento\n",
      "Regimen-Escolar\n",
      "Jurisdiccion\n",
      "Tipo-Educacion\n",
      "Modalidad\n",
      "Jornada\n",
      "Nivel\n",
      "Etnia\n",
      "Nacionalidad\n",
      "Pueblo\n",
      "Institucion-georeferenciada\n",
      "Institucion-responsable\n",
      "Tipo-Acceso\n",
      "Numero-estudiantes\n",
      "Numero-docentes\n",
      "Estado\n"
     ]
    }
   ],
   "source": [
    "nombres = [u'Codigo-AMIE', u'Nombre-Institucion',\n",
    "       u'CDPA-Provincia', u'Provincia',\n",
    "       u'CDPA-Canton', u'Canton',\n",
    "       u'CDPA-Parroquia', u'Parroquia',\n",
    "       u'Zona-Administrativa', u'Nombre-Distrito',\n",
    "       u'Codigo-Distrito', u'Cod-Circuito-Educativo',\n",
    "       u'Unidad-Administrativa-Circuital',\n",
    "       u'Casos-excepcionales', u'Sostenimiento', u'Regimen-Escolar',\n",
    "       u'Jurisdiccion', u'Tipo-Educacion', u'Modalidad', u'Jornada',\n",
    "       u'Nivel', u'Etnia', u'Nacionalidad', u'Pueblo',\n",
    "       u'Institucion-georeferenciada', u'Institucion-responsable',\n",
    "       u'Tipo-Acceso', u'Numero-estudiantes',\n",
    "       u'Numero-docentes', u'Estado']\n",
    "for n in nombres:\n",
    "    print(n)"
   ]
  },
  {
   "cell_type": "code",
   "execution_count": 4,
   "metadata": {},
   "outputs": [],
   "source": [
    "lista=[\"Zona1\",\"Zona 2\",\"Zona 3\",\"Zona 4\",\"Zona 5\",\"Zona 6\",\"Zona 7\",\"Zona 8\",\"Zona 9\",\"Zona no delimitada\"]\n",
    "dic = []\n",
    "for l in lista:\n",
    "    data = pd.read_excel(\"../archivos/Listado-Instituciones-Educativas.xlsx\", header=None,sheet_name=l,names=nombres)\n",
    "    dic.append(data)\n",
    "# data = pd.read_excel(\"datos-tabula/Listado-Instituciones-Educativas.xls\")\n",
    "\n",
    "dataframe =pd.concat(dic)"
   ]
  },
  {
   "cell_type": "code",
   "execution_count": 5,
   "metadata": {},
   "outputs": [
    {
     "name": "stdout",
     "output_type": "stream",
     "text": [
      "Index([u'Codigo-AMIE', u'Nombre-Institucion', u'CDPA-Provincia', u'Provincia',\n",
      "       u'CDPA-Canton', u'Canton', u'CDPA-Parroquia', u'Parroquia',\n",
      "       u'Zona-Administrativa', u'Nombre-Distrito', u'Codigo-Distrito',\n",
      "       u'Cod-Circuito-Educativo', u'Unidad-Administrativa-Circuital',\n",
      "       u'Casos-excepcionales', u'Sostenimiento', u'Regimen-Escolar',\n",
      "       u'Jurisdiccion', u'Tipo-Educacion', u'Modalidad', u'Jornada', u'Nivel',\n",
      "       u'Etnia', u'Nacionalidad', u'Pueblo', u'Institucion-georeferenciada',\n",
      "       u'Institucion-responsable', u'Tipo-Acceso', u'Numero-estudiantes',\n",
      "       u'Numero-docentes', u'Estado'],\n",
      "      dtype='object')\n"
     ]
    }
   ],
   "source": [
    "print (dataframe.keys())"
   ]
  },
  {
   "cell_type": "code",
   "execution_count": 6,
   "metadata": {},
   "outputs": [
    {
     "data": {
      "text/plain": [
       "(122, 30)"
      ]
     },
     "execution_count": 6,
     "metadata": {},
     "output_type": "execute_result"
    }
   ],
   "source": [
    "data.shape"
   ]
  },
  {
   "cell_type": "code",
   "execution_count": 7,
   "metadata": {},
   "outputs": [
    {
     "data": {
      "text/plain": [
       "1575"
      ]
     },
     "execution_count": 7,
     "metadata": {},
     "output_type": "execute_result"
    }
   ],
   "source": [
    "len(dic[1])"
   ]
  },
  {
   "cell_type": "code",
   "execution_count": 8,
   "metadata": {},
   "outputs": [
    {
     "data": {
      "text/plain": [
       "(29100, 30)"
      ]
     },
     "execution_count": 8,
     "metadata": {},
     "output_type": "execute_result"
    }
   ],
   "source": [
    "dataframe.shape"
   ]
  },
  {
   "cell_type": "code",
   "execution_count": 28,
   "metadata": {},
   "outputs": [
    {
     "data": {
      "text/plain": [
       "array([u'Terrestre', u'Fluvial', u'A\\xe9rea', nan], dtype=object)"
      ]
     },
     "execution_count": 28,
     "metadata": {},
     "output_type": "execute_result"
    }
   ],
   "source": [
    "dataframe[u'Acceso (terrestre/ aéreo/fluvial)'].unique()"
   ]
  },
  {
   "cell_type": "code",
   "execution_count": null,
   "metadata": {},
   "outputs": [],
   "source": [
    "#import sql pero que bysv\n",
    "#nombre provincia instituicon parria etnie numero de estudians y doncete\n",
    "import sqlite3\n",
    "connection = sqlite3.connect(\"instituciones.db\")\n",
    "connection.text_factory = str\n",
    "dataframe.to_sql(name='educativas', con=connection, if_exists = 'append', index=False)"
   ]
  }
 ],
 "metadata": {
  "kernelspec": {
   "display_name": "Python 2",
   "language": "python",
   "name": "python2"
  },
  "language_info": {
   "codemirror_mode": {
    "name": "ipython",
    "version": 2
   },
   "file_extension": ".py",
   "mimetype": "text/x-python",
   "name": "python",
   "nbconvert_exporter": "python",
   "pygments_lexer": "ipython2",
   "version": "2.7.10"
  },
  "widgets": {
   "state": {},
   "version": "1.1.2"
  }
 },
 "nbformat": 4,
 "nbformat_minor": 1
}
